{
 "cells": [
  {
   "cell_type": "code",
   "execution_count": 1,
   "metadata": {},
   "outputs": [],
   "source": [
    "from bs4 import BeautifulSoup\n",
    "import requests\n",
    "import wikipedia\n",
    "import urllib"
   ]
  },
  {
   "cell_type": "code",
   "execution_count": 2,
   "metadata": {},
   "outputs": [],
   "source": [
    "Begin_url = 'https://en.wikipedia.org/wiki/Prehistory'\n",
    "End_url = 'https://fr.wikipedia.org/wiki/Philosophie'\n",
    "url = Begin_url\n",
    "html = requests.get(url).text\n",
    "soup = BeautifulSoup(html)"
   ]
  },
  {
   "cell_type": "code",
   "execution_count": 3,
   "metadata": {},
   "outputs": [],
   "source": [
    "def lloop(url,End_url,max_iter=50):\n",
    "    if (url[-1] == End_url):\n",
    "        return False\n",
    "    elif (len(url) > max_iter):\n",
    "        return False\n",
    "    elif (url[-1] in url[:-1]):\n",
    "        return False\n",
    "    else:\n",
    "        return True"
   ]
  },
  {
   "cell_type": "code",
   "execution_count": 4,
   "metadata": {},
   "outputs": [],
   "source": [
    "def recover_link(url):\n",
    "    lien = None\n",
    "    content = requests.get(url)\n",
    "    soup = BeautifulSoup(content.text)\n",
    "    paragraph = soup.select(\"p\")\n",
    "    for p in paragraph:\n",
    "       if p.find(\"a\", recursive=True):\n",
    "            lien = p.find(\"a\", recursive=True).get('href')\n",
    "            break\n",
    "    if lien:\n",
    "        lien = urllib.parse.urljoin('https://en.wikipedia.org/', lien)\n",
    "        print(lien)\n",
    "    return lien"
   ]
  },
  {
   "cell_type": "code",
   "execution_count": 5,
   "metadata": {},
   "outputs": [
    {
     "name": "stdout",
     "output_type": "stream",
     "text": [
      "https://en.wikipedia.org/wiki/Prehistory\n",
      "https://en.wikipedia.org/wiki/Stone_tools\n",
      "https://en.wikipedia.org/wiki/Stone_tools\n",
      "https://en.wikipedia.org/wiki/Paleolithic\n",
      "https://en.wikipedia.org/wiki/Paleolithic\n",
      "https://en.wikipedia.org/wiki/Help:IPA/English\n",
      "https://en.wikipedia.org/wiki/Help:IPA/English\n",
      "https://en.wikipedia.org/wiki/International_Phonetic_Alphabet\n",
      "https://en.wikipedia.org/wiki/International_Phonetic_Alphabet\n",
      "https://en.wikipedia.org/wiki/Alphabet\n",
      "https://en.wikipedia.org/wiki/Alphabet\n",
      "https://en.wikipedia.org/wiki/Letter_(alphabet)\n",
      "https://en.wikipedia.org/wiki/Letter_(alphabet)\n",
      "https://en.wikipedia.org/wiki/Symbol\n",
      "https://en.wikipedia.org/wiki/Symbol\n",
      "https://en.wikipedia.org/wiki/Idea\n",
      "https://en.wikipedia.org/wiki/Idea\n",
      "https://en.wikipedia.org/wiki/Philosophy\n",
      "https://en.wikipedia.org/wiki/Philosophy\n",
      "https://en.wikipedia.org/wiki/Greek_language\n",
      "https://en.wikipedia.org/wiki/Greek_language\n",
      "https://en.wikipedia.org/wiki/Modern_Greek\n",
      "https://en.wikipedia.org/wiki/Modern_Greek\n",
      "https://en.wikipedia.org/wiki/Dialect\n",
      "https://en.wikipedia.org/wiki/Dialect\n",
      "https://en.wikipedia.org/wiki/Latin\n",
      "https://en.wikipedia.org/wiki/Latin\n",
      "https://en.wikipedia.org/wiki/Help:IPA/Latin\n",
      "https://en.wikipedia.org/wiki/Help:IPA/Latin\n",
      "https://en.wikipedia.org/wiki/International_Phonetic_Alphabet\n",
      "https://en.wikipedia.org/wiki/International_Phonetic_Alphabet\n",
      "distance = 16\n"
     ]
    }
   ],
   "source": [
    "llist = []\n",
    "llist.append(Begin_url)\n",
    "print(llist[0])\n",
    "while lloop(llist,End_url):\n",
    "    lien = recover_link(llist[-1])\n",
    "    print(lien)\n",
    "    if not lien:\n",
    "        print(\"No link found!\")\n",
    "        break\n",
    "    llist.append(lien)\n",
    "print(\"distance = {}\".format(len(llist)))"
   ]
  }
 ],
 "metadata": {
  "kernelspec": {
   "display_name": "Python 3",
   "language": "python",
   "name": "python3"
  },
  "language_info": {
   "codemirror_mode": {
    "name": "ipython",
    "version": 3
   },
   "file_extension": ".py",
   "mimetype": "text/x-python",
   "name": "python",
   "nbconvert_exporter": "python",
   "pygments_lexer": "ipython3",
   "version": "3.7.4"
  }
 },
 "nbformat": 4,
 "nbformat_minor": 2
}
